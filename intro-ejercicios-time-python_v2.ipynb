{
 "cells": [
  {
   "cell_type": "markdown",
   "metadata": {},
   "source": [
    "<center><span style=\"background-color: rgb(251, 160, 38); font-size: 32px;\">  <b>NUCLIO DIGITAL SCHOOL -</b> MASTER EN DATA SCIENCE  </span></center>\n",
    "    \n",
    "<br>\n",
    "    \n",
    "<center><a href = https://nuclio.school/wp-content/uploads/2019/10/nucleoDS-newBlack.png > <img src=\"https://nuclio.school/wp-content/uploads/2019/10/nucleoDS-newBlack.png\" width=400 height=100><a/></center>"
   ]
  },
  {
   "cell_type": "markdown",
   "metadata": {},
   "source": [
    "<hr style=\"height:5px;border-width:0;color:orange;background-color:orange\">\n",
    "<center> <span style=\"font-size: 26px;\">  Tiempo y Fecha en Python - <b> Ejercicios </span> </center>\n",
    "\n",
    "+ Sesion: **Tiempo y Fechas en Python**\n",
    "+ Bloque: **Aprendizaje Supervisado Series Temporales**\n",
    "+ Curso: **Data Science Madrid**\n",
    "+ Profesor: **Álvaro Ponte Blanco**\n",
    "\n",
    "<br>\n",
    "\n",
    "<hr style=\"height:5px;border-width:0;color:orange;background-color:orange\">"
   ]
  },
  {
   "cell_type": "markdown",
   "metadata": {},
   "source": [
    "# Ejercicios"
   ]
  },
  {
   "cell_type": "markdown",
   "metadata": {},
   "source": [
    "## Tiempo en Python"
   ]
  },
  {
   "cell_type": "markdown",
   "metadata": {},
   "source": [
    "0. Importa el paquete de datetime"
   ]
  },
  {
   "cell_type": "code",
   "execution_count": 1,
   "metadata": {},
   "outputs": [],
   "source": [
    "from datetime import datetime, date, time, timedelta"
   ]
  },
  {
   "cell_type": "markdown",
   "metadata": {},
   "source": [
    "1. Crea un variable con el dia de tus cumpleaños🎂🎂 con la funcion datetime y muestrala en pantalla (print). Si no quieres compartirla, puedes usar una fecha ficticia :)"
   ]
  },
  {
   "cell_type": "markdown",
   "metadata": {},
   "source": [
    "2. Crea otra variable con el dia de cumpleaños utilizando cadena de texto con esta forma 01/01/1990. Comprueba que ambas fechas son iguales creando una nueva variable: son_iguales (binaria)"
   ]
  },
  {
   "cell_type": "markdown",
   "metadata": {},
   "source": [
    "3. Muestra tu cumpleaños (cualquiera de las dos variables) en 4 formatos diferentes:\n",
    "    + January 01, 1990\n",
    "    + 01/01/1990\n",
    "    + 01-01-1990\n",
    "    + 01 January 1990"
   ]
  },
  {
   "cell_type": "markdown",
   "metadata": {},
   "source": [
    "4. Que dia de las semana has nacido? Y en que día del año? Y en que semana del año? Mira en las tablas para acordarte de los codigos"
   ]
  },
  {
   "cell_type": "markdown",
   "metadata": {},
   "source": [
    "5. Crea una variable de tipo hora que represente en la que has nacido hasta nivel microsegundo. Si no te acuerdas😅 te la puedes inventar. Combinala con la fecha de tu cumpleaños con combine"
   ]
  },
  {
   "cell_type": "markdown",
   "metadata": {},
   "source": [
    "6. Obten los principales atributos del campo edad: año, mes, día del mes, hora, minuto, segundo y microsegundo del campo anterior"
   ]
  },
  {
   "cell_type": "markdown",
   "metadata": {},
   "source": [
    "7. Calcula tu edad actual (datetime), incluyendo todas las unidades (segundos incluidos)"
   ]
  },
  {
   "cell_type": "markdown",
   "metadata": {},
   "source": [
    "8. En que fecha has cumplido 5000 días? Obten la variable año, mes y si era fin de semana o no. Eras mayor en esa fecha o cuando cumplas 300000000 de segundos? "
   ]
  },
  {
   "cell_type": "markdown",
   "metadata": {},
   "source": [
    "9. Cuantos años tendras el 'Jun 28 2025 at 7:40AM' (incluye tambien horas minutos y segundos)? Tienes que utilizar el formato cadena para introducir la fecha"
   ]
  },
  {
   "cell_type": "markdown",
   "metadata": {},
   "source": [
    "10. Crea  una lista con todas las fechas de tu cumpleaños hasta el día de hoy. Pista timedelta no incluye años porque no es unidad de tiempo fija, por lo que puedes utilizar .replace para introducir nuevos años\n"
   ]
  },
  {
   "cell_type": "markdown",
   "metadata": {},
   "source": [
    "Ejercicio extra. Crea la funcion add_year para sumar un año utilizando timedelta. Comprueba si el año es bisiesto y suma el número de días correspondiente. "
   ]
  },
  {
   "cell_type": "markdown",
   "metadata": {},
   "source": [
    "***"
   ]
  },
  {
   "cell_type": "markdown",
   "metadata": {},
   "source": [
    "## Pandas Con Tiempo"
   ]
  },
  {
   "cell_type": "markdown",
   "metadata": {},
   "source": [
    "A continuación, vienen los ejercicios relacionados con pandas. El dataset contiene ratios de intercambio de monedas con el dolar, y nos centraremos en el euro,"
   ]
  },
  {
   "cell_type": "code",
   "execution_count": 200,
   "metadata": {},
   "outputs": [],
   "source": [
    "link = 'https://github.com/AnotherKamila/currency-exchange-rates/blob/master/rates.csv'"
   ]
  },
  {
   "cell_type": "markdown",
   "metadata": {},
   "source": [
    "0. Importa la libreria de Python y de Numpy"
   ]
  },
  {
   "cell_type": "code",
   "execution_count": 201,
   "metadata": {},
   "outputs": [],
   "source": [
    "import pandas as pd\n",
    "import numpy as np"
   ]
  },
  {
   "cell_type": "markdown",
   "metadata": {},
   "source": [
    "1. Lee el archivo con pandas (no incluyas ningun parametro de momento)"
   ]
  },
  {
   "cell_type": "code",
   "execution_count": 1,
   "metadata": {},
   "outputs": [],
   "source": [
    "link = 'https://raw.githubusercontent.com/AnotherKamila/currency-exchange-rates/master/rates.csv'"
   ]
  },
  {
   "cell_type": "markdown",
   "metadata": {},
   "source": [
    "2. Chequea el numero de columnas,tipo de columnas, numero de filas y los valores caractersticos de la serie numerica (summary)."
   ]
  },
  {
   "cell_type": "markdown",
   "metadata": {},
   "source": [
    "3. Convierte la variable de tiempo (Date) al formato datetime y conviertela en el indice "
   ]
  },
  {
   "cell_type": "markdown",
   "metadata": {},
   "source": [
    "4. Vuelve a leer el archivo, esta vez asignando el parametro al indice y el camo date como fecha. Comprueba que los dataframes son iguales (Se puede utilizar la funcion df.equals(exactly_equal) para comprobar dos dataframes)"
   ]
  },
  {
   "cell_type": "markdown",
   "metadata": {},
   "source": [
    "5. Quedate con uno de los dos anteriores dataframes y crea uno nuevo solamente con las columnas date y EUR. Pintala en un lineplot"
   ]
  },
  {
   "cell_type": "markdown",
   "metadata": {},
   "source": [
    "6. Filtra el dataframe para tener\n",
    "+ Datos unicamente de 2017. Cuantos datos tenemos de 2017?\n",
    "+ Datos para marzo 2018. Obten la media del mes\n",
    "+ El resultado para el 15 de Febrero de 2018 "
   ]
  },
  {
   "cell_type": "markdown",
   "metadata": {},
   "source": [
    "7. Que dia de la semana tiene una media mayor? Y una mediana mayor? Pinta en un grafico de barras la media(Groupby) de cada dia de la semana"
   ]
  },
  {
   "cell_type": "markdown",
   "metadata": {},
   "source": [
    "8. Crea las siguientes columnas nuevas para el dataframe\n",
    "+ Año\n",
    "+ Mes\n",
    "+ Dia del mes\n",
    "+ Dia del año\n",
    "+ Semana del año\n"
   ]
  },
  {
   "cell_type": "markdown",
   "metadata": {},
   "source": [
    "9. Crea dos nuevas variables en el dataframe\n",
    "+ Valor de la variable del día aterior \" EUR_prev_1'\n",
    "+ Valor de dentro de una semana \"EUR_next_7'"
   ]
  },
  {
   "cell_type": "markdown",
   "metadata": {},
   "source": [
    "10. Calcula la variable diferencia entre el valor de ayer y hoy, utilizando 'EUR_prev_1'"
   ]
  },
  {
   "cell_type": "markdown",
   "metadata": {},
   "source": [
    "11. Calcula la el ratio de crecimiento entre ayer y hoy entre ambas, dividiendo entre el valor del dia anterior"
   ]
  },
  {
   "cell_type": "markdown",
   "metadata": {},
   "source": [
    "12. Obten la columna 'Eur_prev_1_diff', con la funcion diff, y la variable pct_change 'Eur_prev_1_pct'. Comprueba que son iguales con lo calculado anteriormente"
   ]
  },
  {
   "cell_type": "markdown",
   "metadata": {},
   "source": [
    "13. Crea una nueva variable la media movil CENTRADA de una semana. Haz un grafico(lineplot) para mostrarla , y comparala con la del ejercicio 5. Alguna conclusion>"
   ]
  },
  {
   "cell_type": "markdown",
   "metadata": {},
   "source": [
    "14. Crea 3 dataframes distintos a una granularidad diaria (Recuerda que no hay fines de semanas, y tenemos que completar el valor)\n",
    "+ El primero, utilizando el valor del primer día\n",
    "+ El segundo, Uutilizando el valor del día siguiente\n",
    "+ El tercero, Utilizando una interpolación entre ambos días\n",
    "\n"
   ]
  },
  {
   "cell_type": "markdown",
   "metadata": {},
   "source": []
  }
 ],
 "metadata": {
  "interpreter": {
   "hash": "67d2c2385936eccdc9818a735f1f540822cd4c593b2f24a825eaea16be86a072"
  },
  "kernelspec": {
   "display_name": "Python_3.7",
   "language": "python",
   "name": "python3"
  },
  "language_info": {
   "codemirror_mode": {
    "name": "ipython",
    "version": 3
   },
   "file_extension": ".py",
   "mimetype": "text/x-python",
   "name": "python",
   "nbconvert_exporter": "python",
   "pygments_lexer": "ipython3",
   "version": "3.9.7"
  }
 },
 "nbformat": 4,
 "nbformat_minor": 4
}
