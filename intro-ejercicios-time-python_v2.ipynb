{
 "cells": [
  {
   "cell_type": "markdown",
   "metadata": {},
   "source": [
    "<center><span style=\"background-color: rgb(251, 160, 38); font-size: 32px;\">  <b>NUCLIO DIGITAL SCHOOL -</b> MASTER EN DATA SCIENCE  </span></center>\n",
    "    \n",
    "<br>\n",
    "    \n",
    "<center><a href = https://nuclio.school/wp-content/uploads/2019/10/nucleoDS-newBlack.png > <img src=\"https://nuclio.school/wp-content/uploads/2019/10/nucleoDS-newBlack.png\" width=400 height=100><a/></center>"
   ]
  },
  {
   "cell_type": "markdown",
   "metadata": {},
   "source": [
    "<hr style=\"height:5px;border-width:0;color:orange;background-color:orange\">\n",
    "<center> <span style=\"font-size: 26px;\">  Tiempo y Fecha en Python - <b> Ejercicios </span> </center>\n",
    "\n",
    "+ Sesion: **Tiempo y Fechas en Python**\n",
    "+ Bloque: **Aprendizaje Supervisado Series Temporales**\n",
    "+ Curso: **Data Science Madrid**\n",
    "+ Profesor: **Álvaro Ponte Blanco**\n",
    "\n",
    "<br>\n",
    "\n",
    "<hr style=\"height:5px;border-width:0;color:orange;background-color:orange\">"
   ]
  },
  {
   "cell_type": "markdown",
   "metadata": {},
   "source": [
    "# Ejercicios"
   ]
  },
  {
   "cell_type": "markdown",
   "metadata": {},
   "source": [
    "## Tiempo en Python"
   ]
  },
  {
   "cell_type": "markdown",
   "metadata": {},
   "source": [
    "0. Importa el paquete de datetime"
   ]
  },
  {
   "cell_type": "code",
   "execution_count": 51,
   "metadata": {},
   "outputs": [],
   "source": [
    "from datetime import datetime, date, time, timedelta"
   ]
  },
  {
   "cell_type": "markdown",
   "metadata": {},
   "source": [
    "1. Crea un variable con el dia de tus cumpleaños🎂🎂 con la funcion datetime y muestrala en pantalla (print). Si no quieres compartirla, puedes usar una fecha ficticia :)"
   ]
  },
  {
   "cell_type": "code",
   "execution_count": 52,
   "metadata": {},
   "outputs": [
    {
     "name": "stdout",
     "output_type": "stream",
     "text": [
      "1988-07-29\n"
     ]
    }
   ],
   "source": [
    "bday= date(1988, 7, 29)\n",
    "print(bday)"
   ]
  },
  {
   "cell_type": "markdown",
   "metadata": {},
   "source": [
    "2. Crea otra variable con el dia de cumpleaños utilizando cadena de texto con esta forma 01/01/1990. Comprueba que ambas fechas son iguales creando una nueva variable: son_iguales (binaria)"
   ]
  },
  {
   "cell_type": "code",
   "execution_count": 53,
   "metadata": {},
   "outputs": [
    {
     "name": "stdout",
     "output_type": "stream",
     "text": [
      "1988-07-29 00:00:00\n"
     ]
    }
   ],
   "source": [
    "texto = \"29/07/1988\"\n",
    "formato = '%d/%m/%Y'\n",
    "dts = datetime.strptime(texto, formato)\n",
    "print(dts)\n"
   ]
  },
  {
   "cell_type": "code",
   "execution_count": 54,
   "metadata": {},
   "outputs": [
    {
     "ename": "TypeError",
     "evalue": "unsupported operand type(s) for -: 'datetime.datetime' and 'datetime.date'",
     "output_type": "error",
     "traceback": [
      "\u001b[1;31m---------------------------------------------------------------------------\u001b[0m",
      "\u001b[1;31mTypeError\u001b[0m                                 Traceback (most recent call last)",
      "\u001b[1;32m<ipython-input-54-dd31a864a033>\u001b[0m in \u001b[0;36m<module>\u001b[1;34m\u001b[0m\n\u001b[1;32m----> 1\u001b[1;33m \u001b[0mdts\u001b[0m\u001b[1;33m-\u001b[0m\u001b[0mbday\u001b[0m\u001b[1;33m\u001b[0m\u001b[1;33m\u001b[0m\u001b[0m\n\u001b[0m",
      "\u001b[1;31mTypeError\u001b[0m: unsupported operand type(s) for -: 'datetime.datetime' and 'datetime.date'"
     ]
    }
   ],
   "source": [
    "dts-bday"
   ]
  },
  {
   "cell_type": "markdown",
   "metadata": {},
   "source": [
    "3. Muestra tu cumpleaños (cualquiera de las dos variables) en 4 formatos diferentes:\n",
    "    + January 01, 1990\n",
    "    + 01/01/1990\n",
    "    + 01-01-1990\n",
    "    + 01 January 1990"
   ]
  },
  {
   "cell_type": "code",
   "execution_count": 55,
   "metadata": {},
   "outputs": [
    {
     "name": "stdout",
     "output_type": "stream",
     "text": [
      "July 29,1988\n",
      "29/07/1988\n",
      "29-07-1988\n",
      "29 July 1988\n"
     ]
    }
   ],
   "source": [
    "print(bday.strftime(\"%B %d,%Y\"))\n",
    "print(bday.strftime(\"%d/%m/%Y\"))\n",
    "print(bday.strftime(\"%d-%m-%Y\"))\n",
    "print(bday.strftime(\"%d %B %Y\"))"
   ]
  },
  {
   "cell_type": "markdown",
   "metadata": {},
   "source": [
    "4. Que dia de las semana has nacido? Y en que día del año? Y en que semana del año? Mira en las tablas para acordarte de los codigos"
   ]
  },
  {
   "cell_type": "code",
   "execution_count": 56,
   "metadata": {},
   "outputs": [
    {
     "data": {
      "text/plain": [
       "'Friday'"
      ]
     },
     "execution_count": 56,
     "metadata": {},
     "output_type": "execute_result"
    }
   ],
   "source": [
    "#dayoftheweek i was born\n",
    "bday.strftime(\"%A\")\n"
   ]
  },
  {
   "cell_type": "code",
   "execution_count": 57,
   "metadata": {},
   "outputs": [
    {
     "data": {
      "text/plain": [
       "'211'"
      ]
     },
     "execution_count": 57,
     "metadata": {},
     "output_type": "execute_result"
    }
   ],
   "source": [
    "#day of the year\n",
    "bday.strftime('%j')\n"
   ]
  },
  {
   "cell_type": "code",
   "execution_count": 58,
   "metadata": {},
   "outputs": [
    {
     "data": {
      "text/plain": [
       "'30'"
      ]
     },
     "execution_count": 58,
     "metadata": {},
     "output_type": "execute_result"
    }
   ],
   "source": [
    "#week of the year\n",
    "bday.strftime(\"%W\")\n"
   ]
  },
  {
   "cell_type": "markdown",
   "metadata": {},
   "source": [
    "5. Crea una variable de tipo hora que represente en la que has nacido hasta nivel microsegundo. Si no te acuerdas😅 te la puedes inventar. Combinala con la fecha de tu cumpleaños con combine"
   ]
  },
  {
   "cell_type": "code",
   "execution_count": 59,
   "metadata": {},
   "outputs": [
    {
     "name": "stdout",
     "output_type": "stream",
     "text": [
      "14:30:20.000022\n"
     ]
    }
   ],
   "source": [
    "hora = time(14,30,20,22)\n",
    "print(hora)"
   ]
  },
  {
   "cell_type": "code",
   "execution_count": 60,
   "metadata": {},
   "outputs": [
    {
     "name": "stdout",
     "output_type": "stream",
     "text": [
      "1988-07-29 14:30:20.000022\n"
     ]
    }
   ],
   "source": [
    "combo=datetime.combine(bday,hora)\n",
    "print(combo)"
   ]
  },
  {
   "cell_type": "markdown",
   "metadata": {},
   "source": [
    "6. Obten los principales atributos del campo edad: año, mes, día del mes, hora, minuto, segundo y microsegundo del campo anterior"
   ]
  },
  {
   "cell_type": "code",
   "execution_count": 61,
   "metadata": {},
   "outputs": [
    {
     "name": "stdout",
     "output_type": "stream",
     "text": [
      "Full date: 1988-07-29 14:30:20.000022\n",
      "Año: 1988\n",
      "Mes: 7\n",
      "Día: 29\n",
      "Hora: 14\n",
      "Minuto: 30\n",
      "Segundo: 20\n",
      "MicroSegundo: 22\n",
      "Minute: <class 'int'>\n"
     ]
    }
   ],
   "source": [
    "print('Full date: ' +  str(combo))\n",
    "print('Año: ' +  str(combo.year))\n",
    "print('Mes: ' +  str(combo.month))\n",
    "print('Día: ' +  str(combo.day))\n",
    "print('Hora: ' +  str(combo.hour))\n",
    "print('Minuto: ' +  str(combo.minute))\n",
    "print('Segundo: ' +  str(combo.second))\n",
    "print('MicroSegundo: ' +  str(combo.microsecond))\n",
    "print('Minute: ' +  str(type(combo.minute)))"
   ]
  },
  {
   "cell_type": "markdown",
   "metadata": {},
   "source": [
    "7. Calcula tu edad actual (datetime), incluyendo todas las unidades (segundos incluidos)"
   ]
  },
  {
   "cell_type": "code",
   "execution_count": 64,
   "metadata": {},
   "outputs": [
    {
     "name": "stdout",
     "output_type": "stream",
     "text": [
      "33\n"
     ]
    }
   ],
   "source": [
    "#method 1\n",
    "def age(combo):\n",
    "    today = date.today()\n",
    "    age = today.year - bday.year - ((today.month, today.day) < (bday.month, bday.day))\n",
    "    return age\n",
    "print(age(date(2022, 1, 22)))"
   ]
  },
  {
   "cell_type": "code",
   "execution_count": 65,
   "metadata": {},
   "outputs": [
    {
     "name": "stdout",
     "output_type": "stream",
     "text": [
      "12233 days, 0:00:00\n",
      "<class 'datetime.timedelta'>\n"
     ]
    }
   ],
   "source": [
    "#method 2\n",
    "age = date.today() - date(1988,7,29)\n",
    "print(age)\n",
    "print(type(age))"
   ]
  },
  {
   "cell_type": "code",
   "execution_count": 66,
   "metadata": {},
   "outputs": [
    {
     "name": "stdout",
     "output_type": "stream",
     "text": [
      "2022-01-22 20:30:20.000022\n"
     ]
    }
   ],
   "source": [
    "#method 3\n",
    "\n",
    "date_time = datetime(2022,1,22,20,30,20,22)\n",
    "print(date_time)\n"
   ]
  },
  {
   "cell_type": "code",
   "execution_count": 67,
   "metadata": {},
   "outputs": [
    {
     "name": "stdout",
     "output_type": "stream",
     "text": [
      "12230 days, 6:00:00\n"
     ]
    }
   ],
   "source": [
    "age=date_time-combo\n",
    "print(age)"
   ]
  },
  {
   "cell_type": "code",
   "execution_count": null,
   "metadata": {},
   "outputs": [
    {
     "name": "stdout",
     "output_type": "stream",
     "text": [
      "33.50684931506849\n"
     ]
    }
   ],
   "source": [
    "ageinyears=12230/365\n",
    "print(ageinyears)"
   ]
  },
  {
   "cell_type": "markdown",
   "metadata": {},
   "source": []
  },
  {
   "cell_type": "markdown",
   "metadata": {},
   "source": [
    "8. En que fecha has cumplido 5000 días? Obten la variable año, mes y si era fin de semana o no. Eras mayor en esa fecha o cuando cumplas 300000000 de segundos? "
   ]
  },
  {
   "cell_type": "code",
   "execution_count": 68,
   "metadata": {},
   "outputs": [
    {
     "name": "stdout",
     "output_type": "stream",
     "text": [
      "2002-04-07\n"
     ]
    }
   ],
   "source": [
    "vardelta = bday + timedelta(days=5000)\n",
    "print(vardelta)"
   ]
  },
  {
   "cell_type": "markdown",
   "metadata": {},
   "source": [
    "9. Cuantos años tendras el 'Jun 28 2025 at 7:40AM' (incluye tambien horas minutos y segundos)? Tienes que utilizar el formato cadena para introducir la fecha"
   ]
  },
  {
   "cell_type": "code",
   "execution_count": 69,
   "metadata": {},
   "outputs": [
    {
     "name": "stdout",
     "output_type": "stream",
     "text": [
      "13479 days, 17:09:32\n"
     ]
    }
   ],
   "source": [
    "age_total = datetime(2025,6,25,7,40)- datetime(1988,7,29,14,30,28)\n",
    "print(age_total)"
   ]
  },
  {
   "cell_type": "code",
   "execution_count": 70,
   "metadata": {},
   "outputs": [
    {
     "name": "stdout",
     "output_type": "stream",
     "text": [
      "36.92876712328767\n"
     ]
    }
   ],
   "source": [
    "years= 13479/365\n",
    "print(years)"
   ]
  },
  {
   "cell_type": "markdown",
   "metadata": {},
   "source": [
    "10. Crea  una lista con todas las fechas de tu cumpleaños hasta el día de hoy. Pista timedelta no incluye años porque no es unidad de tiempo fija, por lo que puedes utilizar .replace para introducir nuevos años\n"
   ]
  },
  {
   "cell_type": "code",
   "execution_count": 71,
   "metadata": {},
   "outputs": [
    {
     "name": "stdout",
     "output_type": "stream",
     "text": [
      "['1988-07-29', '1988-09-03', '1988-10-10', '1988-11-16', '1988-12-23', '1989-01-29', '1989-03-07', '1989-04-13', '1989-05-20', '1989-06-26', '1989-08-02', '1989-09-08', '1989-10-15', '1989-11-21', '1989-12-28', '1990-02-02', '1990-03-11', '1990-04-17', '1990-05-24', '1990-06-30', '1990-08-06', '1990-09-12', '1990-10-19', '1990-11-25', '1991-01-01', '1991-02-07', '1991-03-16', '1991-04-22', '1991-05-29', '1991-07-04', '1991-08-10', '1991-09-16', '1991-10-23', '1991-11-29', '1992-01-05', '1992-02-11', '1992-03-19', '1992-04-25', '1992-06-01', '1992-07-08', '1992-08-14', '1992-09-20', '1992-10-27', '1992-12-02', '1993-01-08', '1993-02-14', '1993-03-23', '1993-04-29', '1993-06-05', '1993-07-12', '1993-08-18', '1993-09-24', '1993-10-31', '1993-12-07', '1994-01-13', '1994-02-19', '1994-03-28', '1994-05-03', '1994-06-09', '1994-07-16', '1994-08-22', '1994-09-28', '1994-11-04', '1994-12-11', '1995-01-17', '1995-02-23', '1995-04-01', '1995-05-08', '1995-06-14', '1995-07-21', '1995-08-27', '1995-10-02', '1995-11-08', '1995-12-15', '1996-01-21', '1996-02-27', '1996-04-04', '1996-05-11', '1996-06-17', '1996-07-24', '1996-08-30', '1996-10-06', '1996-11-12', '1996-12-19', '1997-01-25', '1997-03-02', '1997-04-08', '1997-05-15', '1997-06-21', '1997-07-28', '1997-09-03', '1997-10-10', '1997-11-16', '1997-12-23', '1998-01-29', '1998-03-07', '1998-04-13', '1998-05-20', '1998-06-26', '1998-08-01', '1998-09-07', '1998-10-14', '1998-11-20', '1998-12-27', '1999-02-02', '1999-03-11', '1999-04-17', '1999-05-24', '1999-06-30', '1999-08-06', '1999-09-12', '1999-10-19', '1999-11-25', '1999-12-31', '2000-02-06', '2000-03-14', '2000-04-20', '2000-05-27', '2000-07-03', '2000-08-09', '2000-09-15', '2000-10-22', '2000-11-28', '2001-01-04', '2001-02-10', '2001-03-19', '2001-04-25', '2001-05-31', '2001-07-07', '2001-08-13', '2001-09-19', '2001-10-26', '2001-12-02', '2002-01-08', '2002-02-14', '2002-03-23', '2002-04-29', '2002-06-05', '2002-07-12', '2002-08-18', '2002-09-24', '2002-10-30', '2002-12-06', '2003-01-12', '2003-02-18', '2003-03-27', '2003-05-03', '2003-06-09', '2003-07-16', '2003-08-22', '2003-09-28', '2003-11-04', '2003-12-11', '2004-01-17', '2004-02-23', '2004-03-30', '2004-05-06', '2004-06-12', '2004-07-19', '2004-08-25', '2004-10-01', '2004-11-07', '2004-12-14', '2005-01-20', '2005-02-26', '2005-04-04', '2005-05-11', '2005-06-17', '2005-07-24', '2005-08-29', '2005-10-05', '2005-11-11', '2005-12-18', '2006-01-24', '2006-03-02', '2006-04-08', '2006-05-15', '2006-06-21', '2006-07-28', '2006-09-03', '2006-10-10', '2006-11-16', '2006-12-23', '2007-01-28', '2007-03-06', '2007-04-12', '2007-05-19', '2007-06-25', '2007-08-01', '2007-09-07', '2007-10-14', '2007-11-20', '2007-12-27', '2008-02-02', '2008-03-10', '2008-04-16', '2008-05-23', '2008-06-28', '2008-08-04', '2008-09-10', '2008-10-17', '2008-11-23', '2008-12-30', '2009-02-05', '2009-03-14', '2009-04-20', '2009-05-27', '2009-07-03', '2009-08-09', '2009-09-15', '2009-10-22', '2009-11-27', '2010-01-03', '2010-02-09', '2010-03-18', '2010-04-24', '2010-05-31', '2010-07-07', '2010-08-13', '2010-09-19', '2010-10-26', '2010-12-02', '2011-01-08', '2011-02-14', '2011-03-23', '2011-04-28', '2011-06-04', '2011-07-11', '2011-08-17', '2011-09-23', '2011-10-30', '2011-12-06', '2012-01-12', '2012-02-18', '2012-03-26', '2012-05-02', '2012-06-08', '2012-07-15', '2012-08-21', '2012-09-26', '2012-11-02', '2012-12-09', '2013-01-15', '2013-02-21', '2013-03-30', '2013-05-06', '2013-06-12', '2013-07-19', '2013-08-25', '2013-10-01', '2013-11-07', '2013-12-14', '2014-01-20', '2014-02-25', '2014-04-03', '2014-05-10', '2014-06-16', '2014-07-23', '2014-08-29', '2014-10-05', '2014-11-11', '2014-12-18', '2015-01-24', '2015-03-02', '2015-04-08', '2015-05-15', '2015-06-21', '2015-07-27', '2015-09-02', '2015-10-09', '2015-11-15', '2015-12-22', '2016-01-28', '2016-03-05', '2016-04-11', '2016-05-18', '2016-06-24', '2016-07-31', '2016-09-06', '2016-10-13', '2016-11-19', '2016-12-25', '2017-01-31', '2017-03-09', '2017-04-15', '2017-05-22', '2017-06-28', '2017-08-04', '2017-09-10', '2017-10-17', '2017-11-23', '2017-12-30', '2018-02-05', '2018-03-14', '2018-04-20', '2018-05-26', '2018-07-02', '2018-08-08', '2018-09-14', '2018-10-21', '2018-11-27', '2019-01-03', '2019-02-09', '2019-03-18', '2019-04-24', '2019-05-31', '2019-07-07', '2019-08-13', '2019-09-19', '2019-10-25', '2019-12-01', '2020-01-07', '2020-02-13', '2020-03-21', '2020-04-27', '2020-06-03', '2020-07-10', '2020-08-16', '2020-09-22', '2020-10-29', '2020-12-05', '2021-01-11', '2021-02-17', '2021-03-25', '2021-05-01', '2021-06-07', '2021-07-14']\n"
     ]
    }
   ],
   "source": [
    "dt = datetime(1988, 7, 29)\n",
    "end = datetime(2021, 7, 29)\n",
    "step=timedelta(years)\n",
    "result = []\n",
    "\n",
    "while dt < end:\n",
    "    result.append(dt.strftime(\"%Y-%m-%d\"))\n",
    "    dt += step\n",
    "print(result)"
   ]
  },
  {
   "cell_type": "markdown",
   "metadata": {},
   "source": [
    "Ejercicio extra. Crea la funcion add_year para sumar un año utilizando timedelta. Comprueba si el año es bisiesto y suma el número de días correspondiente. "
   ]
  },
  {
   "cell_type": "code",
   "execution_count": null,
   "metadata": {},
   "outputs": [],
   "source": []
  },
  {
   "cell_type": "markdown",
   "metadata": {},
   "source": [
    "***"
   ]
  },
  {
   "cell_type": "markdown",
   "metadata": {},
   "source": [
    "## Pandas Con Tiempo"
   ]
  },
  {
   "cell_type": "markdown",
   "metadata": {},
   "source": [
    "A continuación, vienen los ejercicios relacionados con pandas. El dataset contiene ratios de intercambio de monedas con el dolar, y nos centraremos en el euro,"
   ]
  },
  {
   "cell_type": "code",
   "execution_count": 72,
   "metadata": {},
   "outputs": [],
   "source": [
    "link = 'https://github.com/AnotherKamila/currency-exchange-rates/blob/master/rates.csv'"
   ]
  },
  {
   "cell_type": "markdown",
   "metadata": {},
   "source": [
    "0. Importa la libreria de Python y de Numpy"
   ]
  },
  {
   "cell_type": "code",
   "execution_count": 73,
   "metadata": {},
   "outputs": [],
   "source": [
    "import pandas as pd\n",
    "import numpy as np"
   ]
  },
  {
   "cell_type": "markdown",
   "metadata": {},
   "source": [
    "1. Lee el archivo con pandas (no incluyas ningun parametro de momento)"
   ]
  },
  {
   "cell_type": "code",
   "execution_count": 74,
   "metadata": {},
   "outputs": [],
   "source": [
    "link='https://raw.githubusercontent.com/AnotherKamila/currency-exchange-rates/master/rates.csv'"
   ]
  },
  {
   "cell_type": "code",
   "execution_count": 75,
   "metadata": {},
   "outputs": [],
   "source": [
    "linkcsv=pd.read_csv(link)"
   ]
  },
  {
   "cell_type": "code",
   "execution_count": 76,
   "metadata": {},
   "outputs": [
    {
     "data": {
      "text/html": [
       "<div>\n",
       "<style scoped>\n",
       "    .dataframe tbody tr th:only-of-type {\n",
       "        vertical-align: middle;\n",
       "    }\n",
       "\n",
       "    .dataframe tbody tr th {\n",
       "        vertical-align: top;\n",
       "    }\n",
       "\n",
       "    .dataframe thead th {\n",
       "        text-align: right;\n",
       "    }\n",
       "</style>\n",
       "<table border=\"1\" class=\"dataframe\">\n",
       "  <thead>\n",
       "    <tr style=\"text-align: right;\">\n",
       "      <th></th>\n",
       "      <th>Date</th>\n",
       "      <th>LAK</th>\n",
       "      <th>AOA</th>\n",
       "      <th>ANG</th>\n",
       "      <th>NOK</th>\n",
       "      <th>XPF</th>\n",
       "      <th>AFN</th>\n",
       "      <th>MZN</th>\n",
       "      <th>DOP</th>\n",
       "      <th>CZK</th>\n",
       "      <th>...</th>\n",
       "      <th>ALL</th>\n",
       "      <th>LKR</th>\n",
       "      <th>ILA</th>\n",
       "      <th>BRX</th>\n",
       "      <th>INX</th>\n",
       "      <th>CAX</th>\n",
       "      <th>CUC</th>\n",
       "      <th>ISX</th>\n",
       "      <th>HUX</th>\n",
       "      <th>CZX</th>\n",
       "    </tr>\n",
       "  </thead>\n",
       "  <tbody>\n",
       "    <tr>\n",
       "      <th>0</th>\n",
       "      <td>2018-04-14</td>\n",
       "      <td>8276.0</td>\n",
       "      <td>217.610992</td>\n",
       "      <td>1.78</td>\n",
       "      <td>7.77490</td>\n",
       "      <td>96.120003</td>\n",
       "      <td>69.699997</td>\n",
       "      <td>60.000000</td>\n",
       "      <td>49.400002</td>\n",
       "      <td>20.504999</td>\n",
       "      <td>...</td>\n",
       "      <td>104.199997</td>\n",
       "      <td>155.600006</td>\n",
       "      <td>NaN</td>\n",
       "      <td>3.4099</td>\n",
       "      <td>NaN</td>\n",
       "      <td>NaN</td>\n",
       "      <td>NaN</td>\n",
       "      <td>NaN</td>\n",
       "      <td>252.119995</td>\n",
       "      <td>NaN</td>\n",
       "    </tr>\n",
       "    <tr>\n",
       "      <th>1</th>\n",
       "      <td>2018-04-13</td>\n",
       "      <td>8276.0</td>\n",
       "      <td>217.610992</td>\n",
       "      <td>1.78</td>\n",
       "      <td>7.75401</td>\n",
       "      <td>96.220001</td>\n",
       "      <td>69.699997</td>\n",
       "      <td>60.250000</td>\n",
       "      <td>49.400002</td>\n",
       "      <td>20.524401</td>\n",
       "      <td>...</td>\n",
       "      <td>104.500000</td>\n",
       "      <td>155.600006</td>\n",
       "      <td>NaN</td>\n",
       "      <td>3.3852</td>\n",
       "      <td>NaN</td>\n",
       "      <td>NaN</td>\n",
       "      <td>NaN</td>\n",
       "      <td>NaN</td>\n",
       "      <td>252.119995</td>\n",
       "      <td>NaN</td>\n",
       "    </tr>\n",
       "    <tr>\n",
       "      <th>2</th>\n",
       "      <td>2018-04-12</td>\n",
       "      <td>8276.0</td>\n",
       "      <td>216.432999</td>\n",
       "      <td>1.78</td>\n",
       "      <td>7.78330</td>\n",
       "      <td>96.110001</td>\n",
       "      <td>69.699997</td>\n",
       "      <td>60.400002</td>\n",
       "      <td>49.400002</td>\n",
       "      <td>20.510201</td>\n",
       "      <td>...</td>\n",
       "      <td>104.250000</td>\n",
       "      <td>155.649994</td>\n",
       "      <td>NaN</td>\n",
       "      <td>3.4046</td>\n",
       "      <td>NaN</td>\n",
       "      <td>NaN</td>\n",
       "      <td>NaN</td>\n",
       "      <td>NaN</td>\n",
       "      <td>251.740005</td>\n",
       "      <td>NaN</td>\n",
       "    </tr>\n",
       "    <tr>\n",
       "      <th>3</th>\n",
       "      <td>2018-04-11</td>\n",
       "      <td>8279.0</td>\n",
       "      <td>216.608002</td>\n",
       "      <td>1.78</td>\n",
       "      <td>7.77334</td>\n",
       "      <td>95.800003</td>\n",
       "      <td>69.699997</td>\n",
       "      <td>60.599998</td>\n",
       "      <td>49.400002</td>\n",
       "      <td>20.450800</td>\n",
       "      <td>...</td>\n",
       "      <td>104.199997</td>\n",
       "      <td>155.649994</td>\n",
       "      <td>NaN</td>\n",
       "      <td>3.4189</td>\n",
       "      <td>NaN</td>\n",
       "      <td>NaN</td>\n",
       "      <td>NaN</td>\n",
       "      <td>NaN</td>\n",
       "      <td>252.820007</td>\n",
       "      <td>NaN</td>\n",
       "    </tr>\n",
       "    <tr>\n",
       "      <th>4</th>\n",
       "      <td>2018-04-10</td>\n",
       "      <td>8279.0</td>\n",
       "      <td>216.436996</td>\n",
       "      <td>1.78</td>\n",
       "      <td>7.82025</td>\n",
       "      <td>96.269997</td>\n",
       "      <td>69.699997</td>\n",
       "      <td>60.799999</td>\n",
       "      <td>49.400002</td>\n",
       "      <td>20.560699</td>\n",
       "      <td>...</td>\n",
       "      <td>104.199997</td>\n",
       "      <td>155.500000</td>\n",
       "      <td>NaN</td>\n",
       "      <td>3.3897</td>\n",
       "      <td>NaN</td>\n",
       "      <td>NaN</td>\n",
       "      <td>NaN</td>\n",
       "      <td>NaN</td>\n",
       "      <td>253.949997</td>\n",
       "      <td>NaN</td>\n",
       "    </tr>\n",
       "  </tbody>\n",
       "</table>\n",
       "<p>5 rows × 178 columns</p>\n",
       "</div>"
      ],
      "text/plain": [
       "         Date     LAK         AOA   ANG      NOK        XPF        AFN  \\\n",
       "0  2018-04-14  8276.0  217.610992  1.78  7.77490  96.120003  69.699997   \n",
       "1  2018-04-13  8276.0  217.610992  1.78  7.75401  96.220001  69.699997   \n",
       "2  2018-04-12  8276.0  216.432999  1.78  7.78330  96.110001  69.699997   \n",
       "3  2018-04-11  8279.0  216.608002  1.78  7.77334  95.800003  69.699997   \n",
       "4  2018-04-10  8279.0  216.436996  1.78  7.82025  96.269997  69.699997   \n",
       "\n",
       "         MZN        DOP        CZK  ...         ALL         LKR  ILA     BRX  \\\n",
       "0  60.000000  49.400002  20.504999  ...  104.199997  155.600006  NaN  3.4099   \n",
       "1  60.250000  49.400002  20.524401  ...  104.500000  155.600006  NaN  3.3852   \n",
       "2  60.400002  49.400002  20.510201  ...  104.250000  155.649994  NaN  3.4046   \n",
       "3  60.599998  49.400002  20.450800  ...  104.199997  155.649994  NaN  3.4189   \n",
       "4  60.799999  49.400002  20.560699  ...  104.199997  155.500000  NaN  3.3897   \n",
       "\n",
       "   INX  CAX  CUC  ISX         HUX  CZX  \n",
       "0  NaN  NaN  NaN  NaN  252.119995  NaN  \n",
       "1  NaN  NaN  NaN  NaN  252.119995  NaN  \n",
       "2  NaN  NaN  NaN  NaN  251.740005  NaN  \n",
       "3  NaN  NaN  NaN  NaN  252.820007  NaN  \n",
       "4  NaN  NaN  NaN  NaN  253.949997  NaN  \n",
       "\n",
       "[5 rows x 178 columns]"
      ]
     },
     "execution_count": 76,
     "metadata": {},
     "output_type": "execute_result"
    }
   ],
   "source": [
    "linkcsv.head()"
   ]
  },
  {
   "cell_type": "markdown",
   "metadata": {},
   "source": [
    "2. Chequea el numero de columnas,tipo de columnas, numero de filas y los valores caractersticos de la serie numerica (summary)."
   ]
  },
  {
   "cell_type": "code",
   "execution_count": 78,
   "metadata": {},
   "outputs": [
    {
     "name": "stdout",
     "output_type": "stream",
     "text": [
      "<class 'pandas.core.frame.DataFrame'>\n",
      "RangeIndex: 338 entries, 0 to 337\n",
      "Columns: 178 entries, Date to CZX\n",
      "dtypes: float64(177), object(1)\n",
      "memory usage: 470.2+ KB\n"
     ]
    }
   ],
   "source": [
    "linkcsv.info()"
   ]
  },
  {
   "cell_type": "code",
   "execution_count": 79,
   "metadata": {},
   "outputs": [
    {
     "data": {
      "text/plain": [
       "Date     object\n",
       "LAK     float64\n",
       "AOA     float64\n",
       "ANG     float64\n",
       "NOK     float64\n",
       "         ...   \n",
       "CAX     float64\n",
       "CUC     float64\n",
       "ISX     float64\n",
       "HUX     float64\n",
       "CZX     float64\n",
       "Length: 178, dtype: object"
      ]
     },
     "execution_count": 79,
     "metadata": {},
     "output_type": "execute_result"
    }
   ],
   "source": [
    "linkcsv.dtypes"
   ]
  },
  {
   "cell_type": "code",
   "execution_count": 80,
   "metadata": {},
   "outputs": [
    {
     "data": {
      "text/html": [
       "<div>\n",
       "<style scoped>\n",
       "    .dataframe tbody tr th:only-of-type {\n",
       "        vertical-align: middle;\n",
       "    }\n",
       "\n",
       "    .dataframe tbody tr th {\n",
       "        vertical-align: top;\n",
       "    }\n",
       "\n",
       "    .dataframe thead th {\n",
       "        text-align: right;\n",
       "    }\n",
       "</style>\n",
       "<table border=\"1\" class=\"dataframe\">\n",
       "  <thead>\n",
       "    <tr style=\"text-align: right;\">\n",
       "      <th></th>\n",
       "      <th>count</th>\n",
       "      <th>mean</th>\n",
       "      <th>std</th>\n",
       "      <th>min</th>\n",
       "      <th>25%</th>\n",
       "      <th>50%</th>\n",
       "      <th>75%</th>\n",
       "      <th>max</th>\n",
       "    </tr>\n",
       "  </thead>\n",
       "  <tbody>\n",
       "    <tr>\n",
       "      <th>LAK</th>\n",
       "      <td>338.0</td>\n",
       "      <td>8244.239054</td>\n",
       "      <td>47.607895</td>\n",
       "      <td>8162.000000</td>\n",
       "      <td>8191.000000</td>\n",
       "      <td>8268.500000</td>\n",
       "      <td>8284.525146</td>\n",
       "      <td>8317.000000</td>\n",
       "    </tr>\n",
       "    <tr>\n",
       "      <th>AOA</th>\n",
       "      <td>338.0</td>\n",
       "      <td>176.812245</td>\n",
       "      <td>19.999030</td>\n",
       "      <td>165.074997</td>\n",
       "      <td>165.087006</td>\n",
       "      <td>165.095993</td>\n",
       "      <td>183.535248</td>\n",
       "      <td>218.011993</td>\n",
       "    </tr>\n",
       "    <tr>\n",
       "      <th>ANG</th>\n",
       "      <td>338.0</td>\n",
       "      <td>1.778040</td>\n",
       "      <td>0.004931</td>\n",
       "      <td>1.770000</td>\n",
       "      <td>1.777500</td>\n",
       "      <td>1.780000</td>\n",
       "      <td>1.780000</td>\n",
       "      <td>1.790000</td>\n",
       "    </tr>\n",
       "    <tr>\n",
       "      <th>NOK</th>\n",
       "      <td>338.0</td>\n",
       "      <td>8.169929</td>\n",
       "      <td>0.322364</td>\n",
       "      <td>7.668930</td>\n",
       "      <td>7.842430</td>\n",
       "      <td>8.169615</td>\n",
       "      <td>8.473600</td>\n",
       "      <td>8.701320</td>\n",
       "    </tr>\n",
       "    <tr>\n",
       "      <th>XPF</th>\n",
       "      <td>334.0</td>\n",
       "      <td>103.271647</td>\n",
       "      <td>5.874542</td>\n",
       "      <td>94.809998</td>\n",
       "      <td>97.552502</td>\n",
       "      <td>101.570000</td>\n",
       "      <td>109.045002</td>\n",
       "      <td>113.919998</td>\n",
       "    </tr>\n",
       "    <tr>\n",
       "      <th>...</th>\n",
       "      <td>...</td>\n",
       "      <td>...</td>\n",
       "      <td>...</td>\n",
       "      <td>...</td>\n",
       "      <td>...</td>\n",
       "      <td>...</td>\n",
       "      <td>...</td>\n",
       "      <td>...</td>\n",
       "    </tr>\n",
       "    <tr>\n",
       "      <th>CAX</th>\n",
       "      <td>4.0</td>\n",
       "      <td>1.310700</td>\n",
       "      <td>0.000600</td>\n",
       "      <td>1.310400</td>\n",
       "      <td>1.310400</td>\n",
       "      <td>1.310400</td>\n",
       "      <td>1.310700</td>\n",
       "      <td>1.311600</td>\n",
       "    </tr>\n",
       "    <tr>\n",
       "      <th>CUC</th>\n",
       "      <td>4.0</td>\n",
       "      <td>0.995000</td>\n",
       "      <td>0.000000</td>\n",
       "      <td>0.995000</td>\n",
       "      <td>0.995000</td>\n",
       "      <td>0.995000</td>\n",
       "      <td>0.995000</td>\n",
       "      <td>0.995000</td>\n",
       "    </tr>\n",
       "    <tr>\n",
       "      <th>ISX</th>\n",
       "      <td>4.0</td>\n",
       "      <td>108.434999</td>\n",
       "      <td>1.192768</td>\n",
       "      <td>107.330002</td>\n",
       "      <td>107.937500</td>\n",
       "      <td>108.139999</td>\n",
       "      <td>108.637499</td>\n",
       "      <td>110.129997</td>\n",
       "    </tr>\n",
       "    <tr>\n",
       "      <th>HUX</th>\n",
       "      <td>314.0</td>\n",
       "      <td>268.320733</td>\n",
       "      <td>14.696172</td>\n",
       "      <td>247.759995</td>\n",
       "      <td>254.505001</td>\n",
       "      <td>264.675003</td>\n",
       "      <td>284.799995</td>\n",
       "      <td>294.630005</td>\n",
       "    </tr>\n",
       "    <tr>\n",
       "      <th>CZX</th>\n",
       "      <td>4.0</td>\n",
       "      <td>25.444000</td>\n",
       "      <td>0.048000</td>\n",
       "      <td>25.372000</td>\n",
       "      <td>25.444000</td>\n",
       "      <td>25.468000</td>\n",
       "      <td>25.468000</td>\n",
       "      <td>25.468000</td>\n",
       "    </tr>\n",
       "  </tbody>\n",
       "</table>\n",
       "<p>177 rows × 8 columns</p>\n",
       "</div>"
      ],
      "text/plain": [
       "     count         mean        std          min          25%          50%  \\\n",
       "LAK  338.0  8244.239054  47.607895  8162.000000  8191.000000  8268.500000   \n",
       "AOA  338.0   176.812245  19.999030   165.074997   165.087006   165.095993   \n",
       "ANG  338.0     1.778040   0.004931     1.770000     1.777500     1.780000   \n",
       "NOK  338.0     8.169929   0.322364     7.668930     7.842430     8.169615   \n",
       "XPF  334.0   103.271647   5.874542    94.809998    97.552502   101.570000   \n",
       "..     ...          ...        ...          ...          ...          ...   \n",
       "CAX    4.0     1.310700   0.000600     1.310400     1.310400     1.310400   \n",
       "CUC    4.0     0.995000   0.000000     0.995000     0.995000     0.995000   \n",
       "ISX    4.0   108.434999   1.192768   107.330002   107.937500   108.139999   \n",
       "HUX  314.0   268.320733  14.696172   247.759995   254.505001   264.675003   \n",
       "CZX    4.0    25.444000   0.048000    25.372000    25.444000    25.468000   \n",
       "\n",
       "             75%          max  \n",
       "LAK  8284.525146  8317.000000  \n",
       "AOA   183.535248   218.011993  \n",
       "ANG     1.780000     1.790000  \n",
       "NOK     8.473600     8.701320  \n",
       "XPF   109.045002   113.919998  \n",
       "..           ...          ...  \n",
       "CAX     1.310700     1.311600  \n",
       "CUC     0.995000     0.995000  \n",
       "ISX   108.637499   110.129997  \n",
       "HUX   284.799995   294.630005  \n",
       "CZX    25.468000    25.468000  \n",
       "\n",
       "[177 rows x 8 columns]"
      ]
     },
     "execution_count": 80,
     "metadata": {},
     "output_type": "execute_result"
    }
   ],
   "source": [
    "linkcsv.describe().T"
   ]
  },
  {
   "cell_type": "markdown",
   "metadata": {},
   "source": [
    "3. Convierte la variable de tiempo (Date) al formato datetime y conviertela en el indice "
   ]
  },
  {
   "cell_type": "code",
   "execution_count": 81,
   "metadata": {},
   "outputs": [],
   "source": [
    "linkcsv[\"Date\"] = pd.to_datetime(linkcsv[\"Date\"])"
   ]
  },
  {
   "cell_type": "code",
   "execution_count": 82,
   "metadata": {},
   "outputs": [
    {
     "data": {
      "text/plain": [
       "Date    datetime64[ns]\n",
       "LAK            float64\n",
       "AOA            float64\n",
       "ANG            float64\n",
       "NOK            float64\n",
       "             ...      \n",
       "CAX            float64\n",
       "CUC            float64\n",
       "ISX            float64\n",
       "HUX            float64\n",
       "CZX            float64\n",
       "Length: 178, dtype: object"
      ]
     },
     "execution_count": 82,
     "metadata": {},
     "output_type": "execute_result"
    }
   ],
   "source": [
    "linkcsv.dtypes"
   ]
  },
  {
   "cell_type": "markdown",
   "metadata": {},
   "source": [
    "4. Vuelve a leer el archivo, esta vez asignando el parametro al indice y el camo date como fecha. Comprueba que los dataframes son iguales (Se puede utilizar la funcion df.equals(exactly_equal) para comprobar dos dataframes)"
   ]
  },
  {
   "cell_type": "code",
   "execution_count": 117,
   "metadata": {},
   "outputs": [],
   "source": [
    "linkcsv2=pd.read_csv(link)"
   ]
  },
  {
   "cell_type": "code",
   "execution_count": 118,
   "metadata": {},
   "outputs": [],
   "source": [
    "linkcsv2 = linkcsv2.set_index(\"Date\")"
   ]
  },
  {
   "cell_type": "code",
   "execution_count": 119,
   "metadata": {},
   "outputs": [
    {
     "name": "stdout",
     "output_type": "stream",
     "text": [
      "               LAK         AOA   ANG      NOK         XPF        AFN  \\\n",
      "Date                                                                   \n",
      "2018-04-14  8276.0  217.610992  1.78  7.77490   96.120003  69.699997   \n",
      "2018-04-13  8276.0  217.610992  1.78  7.75401   96.220001  69.699997   \n",
      "2018-04-12  8276.0  216.432999  1.78  7.78330   96.110001  69.699997   \n",
      "2018-04-11  8279.0  216.608002  1.78  7.77334   95.800003  69.699997   \n",
      "2018-04-10  8279.0  216.436996  1.78  7.82025   96.269997  69.699997   \n",
      "...            ...         ...   ...      ...         ...        ...   \n",
      "2017-01-13  8169.0  165.078995  1.77  8.50553  111.809998  66.739998   \n",
      "2017-01-12  8168.0  165.078003  1.77  8.48558  111.570000  66.760002   \n",
      "2017-01-11  8165.0  165.078003  1.77  8.60632  112.480003  66.769997   \n",
      "2017-01-10  8201.0  165.078003  1.77  8.60897  112.489998  66.779999   \n",
      "2016-12-20  8195.0  165.074997  1.77  8.70132  113.919998  66.290001   \n",
      "\n",
      "                  MZN        DOP        CZK        THB  ...         ALL  \\\n",
      "Date                                                    ...               \n",
      "2018-04-14  60.000000  49.400002  20.504999  31.150000  ...  104.199997   \n",
      "2018-04-13  60.250000  49.400002  20.524401  31.139999  ...  104.500000   \n",
      "2018-04-12  60.400002  49.400002  20.510201  31.181999  ...  104.250000   \n",
      "2018-04-11  60.599998  49.400002  20.450800  31.143999  ...  104.199997   \n",
      "2018-04-10  60.799999  49.400002  20.560699  31.212999  ...  104.199997   \n",
      "...               ...        ...        ...        ...  ...         ...   \n",
      "2017-01-13  69.449997  46.369999  25.408001  35.400002  ...  128.199997   \n",
      "2017-01-12  69.750000  46.360001  25.358101  35.330002  ...  128.500000   \n",
      "2017-01-11  69.650002  46.360001  25.610300  35.540001  ...  129.149994   \n",
      "2017-01-10  71.000000  46.360001  25.594999  35.540001  ...  128.699997   \n",
      "2016-12-20  72.199997  46.169998  25.989901  36.009998  ...  129.369995   \n",
      "\n",
      "                   LKR  ILA     BRX  INX  CAX  CUC  ISX         HUX  CZX  \n",
      "Date                                                                      \n",
      "2018-04-14  155.600006  NaN  3.4099  NaN  NaN  NaN  NaN  252.119995  NaN  \n",
      "2018-04-13  155.600006  NaN  3.3852  NaN  NaN  NaN  NaN  252.119995  NaN  \n",
      "2018-04-12  155.649994  NaN  3.4046  NaN  NaN  NaN  NaN  251.740005  NaN  \n",
      "2018-04-11  155.649994  NaN  3.4189  NaN  NaN  NaN  NaN  252.820007  NaN  \n",
      "2018-04-10  155.500000  NaN  3.3897  NaN  NaN  NaN  NaN  253.949997  NaN  \n",
      "...                ...  ...     ...  ...  ...  ...  ...         ...  ...  \n",
      "2017-01-13  149.750000  NaN     NaN  NaN  NaN  NaN  NaN         NaN  NaN  \n",
      "2017-01-12  149.949997  NaN     NaN  NaN  NaN  NaN  NaN         NaN  NaN  \n",
      "2017-01-11  149.729996  NaN     NaN  NaN  NaN  NaN  NaN         NaN  NaN  \n",
      "2017-01-10  149.899994  NaN     NaN  NaN  NaN  NaN  NaN         NaN  NaN  \n",
      "2016-12-20  149.149994  NaN     NaN  NaN  NaN  NaN  NaN         NaN  NaN  \n",
      "\n",
      "[338 rows x 177 columns]\n"
     ]
    }
   ],
   "source": [
    "print(linkcsv2)"
   ]
  },
  {
   "cell_type": "markdown",
   "metadata": {},
   "source": [
    "5. Quedate con uno de los dos anteriores dataframes y crea uno nuevo solamente con las columnas date y EUR. Pintala en un lineplot"
   ]
  },
  {
   "cell_type": "code",
   "execution_count": 154,
   "metadata": {},
   "outputs": [
    {
     "name": "stdout",
     "output_type": "stream",
     "text": [
      "               EUR\n",
      "Date              \n",
      "2018-04-14  0.8106\n",
      "2018-04-13  0.8104\n",
      "2018-04-12  0.8100\n",
      "2018-04-11  0.8076\n",
      "2018-04-10  0.8114\n",
      "...            ...\n",
      "2017-01-13  0.9402\n",
      "2017-01-12  0.9384\n",
      "2017-01-11  0.9471\n",
      "2017-01-10  0.9474\n",
      "2016-12-20  0.9615\n",
      "\n",
      "[338 rows x 1 columns]\n"
     ]
    }
   ],
   "source": [
    "dfEUR=linkcsv2.loc[:,['EUR']]\n",
    "print(dfEUR)"
   ]
  },
  {
   "cell_type": "code",
   "execution_count": 163,
   "metadata": {},
   "outputs": [
    {
     "data": {
      "text/plain": [
       "<AxesSubplot:xlabel='Date', ylabel='EUR'>"
      ]
     },
     "execution_count": 163,
     "metadata": {},
     "output_type": "execute_result"
    },
    {
     "data": {
      "image/png": "[encoded data removed]",
      "text/plain": [
       "<Figure size 864x432 with 1 Axes>"
      ]
     },
     "metadata": {
      "needs_background": "light"
     },
     "output_type": "display_data"
    }
   ],
   "source": [
    "import plotly.express as px\n",
    "import matplotlib\n",
    "import matplotlib.pyplot as plt\n",
    "import seaborn as sns\n",
    "\n",
    "fig,ax=plt.subplots(figsize=(12,6))\n",
    "\n",
    "sns.lineplot(data=dfEUR,y=\"EUR\", x='Date')\n"
   ]
  },
  {
   "cell_type": "markdown",
   "metadata": {},
   "source": [
    "6. Filtra el dataframe para tener\n",
    "+ Datos unicamente de 2017. Cuantos datos tenemos de 2017?\n",
    "+ Datos para marzo 2018. Obten la media del mes\n",
    "+ El resultado para el 15 de Febrero de 2018 "
   ]
  },
  {
   "cell_type": "code",
   "execution_count": 164,
   "metadata": {},
   "outputs": [
    {
     "data": {
      "text/html": [
       "<div>\n",
       "<style scoped>\n",
       "    .dataframe tbody tr th:only-of-type {\n",
       "        vertical-align: middle;\n",
       "    }\n",
       "\n",
       "    .dataframe tbody tr th {\n",
       "        vertical-align: top;\n",
       "    }\n",
       "\n",
       "    .dataframe thead th {\n",
       "        text-align: right;\n",
       "    }\n",
       "</style>\n",
       "<table border=\"1\" class=\"dataframe\">\n",
       "  <thead>\n",
       "    <tr style=\"text-align: right;\">\n",
       "      <th></th>\n",
       "      <th>Date</th>\n",
       "      <th>EUR</th>\n",
       "    </tr>\n",
       "  </thead>\n",
       "  <tbody>\n",
       "    <tr>\n",
       "      <th>99</th>\n",
       "      <td>2017-12-31</td>\n",
       "      <td>0.8332</td>\n",
       "    </tr>\n",
       "    <tr>\n",
       "      <th>100</th>\n",
       "      <td>2017-12-30</td>\n",
       "      <td>0.8332</td>\n",
       "    </tr>\n",
       "    <tr>\n",
       "      <th>101</th>\n",
       "      <td>2017-12-29</td>\n",
       "      <td>0.8339</td>\n",
       "    </tr>\n",
       "    <tr>\n",
       "      <th>102</th>\n",
       "      <td>2017-12-28</td>\n",
       "      <td>0.8375</td>\n",
       "    </tr>\n",
       "    <tr>\n",
       "      <th>103</th>\n",
       "      <td>2017-12-27</td>\n",
       "      <td>0.8407</td>\n",
       "    </tr>\n",
       "    <tr>\n",
       "      <th>...</th>\n",
       "      <td>...</td>\n",
       "      <td>...</td>\n",
       "    </tr>\n",
       "    <tr>\n",
       "      <th>332</th>\n",
       "      <td>2017-01-14</td>\n",
       "      <td>0.9393</td>\n",
       "    </tr>\n",
       "    <tr>\n",
       "      <th>333</th>\n",
       "      <td>2017-01-13</td>\n",
       "      <td>0.9402</td>\n",
       "    </tr>\n",
       "    <tr>\n",
       "      <th>334</th>\n",
       "      <td>2017-01-12</td>\n",
       "      <td>0.9384</td>\n",
       "    </tr>\n",
       "    <tr>\n",
       "      <th>335</th>\n",
       "      <td>2017-01-11</td>\n",
       "      <td>0.9471</td>\n",
       "    </tr>\n",
       "    <tr>\n",
       "      <th>336</th>\n",
       "      <td>2017-01-10</td>\n",
       "      <td>0.9474</td>\n",
       "    </tr>\n",
       "  </tbody>\n",
       "</table>\n",
       "<p>238 rows × 2 columns</p>\n",
       "</div>"
      ],
      "text/plain": [
       "           Date     EUR\n",
       "99   2017-12-31  0.8332\n",
       "100  2017-12-30  0.8332\n",
       "101  2017-12-29  0.8339\n",
       "102  2017-12-28  0.8375\n",
       "103  2017-12-27  0.8407\n",
       "..          ...     ...\n",
       "332  2017-01-14  0.9393\n",
       "333  2017-01-13  0.9402\n",
       "334  2017-01-12  0.9384\n",
       "335  2017-01-11  0.9471\n",
       "336  2017-01-10  0.9474\n",
       "\n",
       "[238 rows x 2 columns]"
      ]
     },
     "execution_count": 164,
     "metadata": {},
     "output_type": "execute_result"
    }
   ],
   "source": [
    "#Datafrom2017 - totals 238\n",
    "#df_2017= linkcsv2.sort_index()\n",
    "#df_2017= linkcsv2.reset_index()\n",
    "#df_2017[df_2017['Date'].between('2017-01-01', '2017-12-31')]\n",
    "\n",
    "df_2017= dfEUR.sort_index()\n",
    "df_2017= dfEUR.reset_index()\n",
    "df_2017[df_2017['Date'].between('2017-01-01', '2017-12-31')]\n"
   ]
  },
  {
   "cell_type": "code",
   "execution_count": 132,
   "metadata": {},
   "outputs": [
    {
     "data": {
      "text/html": [
       "<div>\n",
       "<style scoped>\n",
       "    .dataframe tbody tr th:only-of-type {\n",
       "        vertical-align: middle;\n",
       "    }\n",
       "\n",
       "    .dataframe tbody tr th {\n",
       "        vertical-align: top;\n",
       "    }\n",
       "\n",
       "    .dataframe thead th {\n",
       "        text-align: right;\n",
       "    }\n",
       "</style>\n",
       "<table border=\"1\" class=\"dataframe\">\n",
       "  <thead>\n",
       "    <tr style=\"text-align: right;\">\n",
       "      <th></th>\n",
       "      <th>Date</th>\n",
       "      <th>EUR</th>\n",
       "    </tr>\n",
       "  </thead>\n",
       "  <tbody>\n",
       "    <tr>\n",
       "      <th>14</th>\n",
       "      <td>2018-03-31</td>\n",
       "      <td>0.8112</td>\n",
       "    </tr>\n",
       "    <tr>\n",
       "      <th>15</th>\n",
       "      <td>2018-03-30</td>\n",
       "      <td>0.8109</td>\n",
       "    </tr>\n",
       "    <tr>\n",
       "      <th>16</th>\n",
       "      <td>2018-03-29</td>\n",
       "      <td>0.8118</td>\n",
       "    </tr>\n",
       "    <tr>\n",
       "      <th>17</th>\n",
       "      <td>2018-03-28</td>\n",
       "      <td>0.8067</td>\n",
       "    </tr>\n",
       "    <tr>\n",
       "      <th>18</th>\n",
       "      <td>2018-03-27</td>\n",
       "      <td>0.8055</td>\n",
       "    </tr>\n",
       "    <tr>\n",
       "      <th>19</th>\n",
       "      <td>2018-03-26</td>\n",
       "      <td>0.8057</td>\n",
       "    </tr>\n",
       "    <tr>\n",
       "      <th>20</th>\n",
       "      <td>2018-03-25</td>\n",
       "      <td>0.8089</td>\n",
       "    </tr>\n",
       "    <tr>\n",
       "      <th>21</th>\n",
       "      <td>2018-03-24</td>\n",
       "      <td>0.8089</td>\n",
       "    </tr>\n",
       "    <tr>\n",
       "      <th>22</th>\n",
       "      <td>2018-03-23</td>\n",
       "      <td>0.8106</td>\n",
       "    </tr>\n",
       "    <tr>\n",
       "      <th>23</th>\n",
       "      <td>2018-03-22</td>\n",
       "      <td>0.8116</td>\n",
       "    </tr>\n",
       "    <tr>\n",
       "      <th>24</th>\n",
       "      <td>2018-03-21</td>\n",
       "      <td>0.8140</td>\n",
       "    </tr>\n",
       "    <tr>\n",
       "      <th>25</th>\n",
       "      <td>2018-03-20</td>\n",
       "      <td>0.8120</td>\n",
       "    </tr>\n",
       "    <tr>\n",
       "      <th>26</th>\n",
       "      <td>2018-03-19</td>\n",
       "      <td>0.8132</td>\n",
       "    </tr>\n",
       "    <tr>\n",
       "      <th>27</th>\n",
       "      <td>2018-03-18</td>\n",
       "      <td>0.8130</td>\n",
       "    </tr>\n",
       "    <tr>\n",
       "      <th>28</th>\n",
       "      <td>2018-03-17</td>\n",
       "      <td>0.8130</td>\n",
       "    </tr>\n",
       "    <tr>\n",
       "      <th>29</th>\n",
       "      <td>2018-03-16</td>\n",
       "      <td>0.8110</td>\n",
       "    </tr>\n",
       "    <tr>\n",
       "      <th>30</th>\n",
       "      <td>2018-03-15</td>\n",
       "      <td>0.8087</td>\n",
       "    </tr>\n",
       "    <tr>\n",
       "      <th>31</th>\n",
       "      <td>2018-03-14</td>\n",
       "      <td>0.8079</td>\n",
       "    </tr>\n",
       "    <tr>\n",
       "      <th>32</th>\n",
       "      <td>2018-03-13</td>\n",
       "      <td>0.8107</td>\n",
       "    </tr>\n",
       "    <tr>\n",
       "      <th>33</th>\n",
       "      <td>2018-03-12</td>\n",
       "      <td>0.8120</td>\n",
       "    </tr>\n",
       "    <tr>\n",
       "      <th>34</th>\n",
       "      <td>2018-03-11</td>\n",
       "      <td>0.8123</td>\n",
       "    </tr>\n",
       "    <tr>\n",
       "      <th>35</th>\n",
       "      <td>2018-03-10</td>\n",
       "      <td>0.8123</td>\n",
       "    </tr>\n",
       "    <tr>\n",
       "      <th>36</th>\n",
       "      <td>2018-03-09</td>\n",
       "      <td>0.8129</td>\n",
       "    </tr>\n",
       "    <tr>\n",
       "      <th>37</th>\n",
       "      <td>2018-03-08</td>\n",
       "      <td>0.8074</td>\n",
       "    </tr>\n",
       "    <tr>\n",
       "      <th>38</th>\n",
       "      <td>2018-03-07</td>\n",
       "      <td>0.8039</td>\n",
       "    </tr>\n",
       "    <tr>\n",
       "      <th>39</th>\n",
       "      <td>2018-03-06</td>\n",
       "      <td>0.8097</td>\n",
       "    </tr>\n",
       "    <tr>\n",
       "      <th>40</th>\n",
       "      <td>2018-03-05</td>\n",
       "      <td>0.8121</td>\n",
       "    </tr>\n",
       "    <tr>\n",
       "      <th>41</th>\n",
       "      <td>2018-03-04</td>\n",
       "      <td>0.8117</td>\n",
       "    </tr>\n",
       "    <tr>\n",
       "      <th>42</th>\n",
       "      <td>2018-03-03</td>\n",
       "      <td>0.8117</td>\n",
       "    </tr>\n",
       "    <tr>\n",
       "      <th>43</th>\n",
       "      <td>2018-03-02</td>\n",
       "      <td>0.8135</td>\n",
       "    </tr>\n",
       "    <tr>\n",
       "      <th>44</th>\n",
       "      <td>2018-03-01</td>\n",
       "      <td>0.8200</td>\n",
       "    </tr>\n",
       "  </tbody>\n",
       "</table>\n",
       "</div>"
      ],
      "text/plain": [
       "          Date     EUR\n",
       "14  2018-03-31  0.8112\n",
       "15  2018-03-30  0.8109\n",
       "16  2018-03-29  0.8118\n",
       "17  2018-03-28  0.8067\n",
       "18  2018-03-27  0.8055\n",
       "19  2018-03-26  0.8057\n",
       "20  2018-03-25  0.8089\n",
       "21  2018-03-24  0.8089\n",
       "22  2018-03-23  0.8106\n",
       "23  2018-03-22  0.8116\n",
       "24  2018-03-21  0.8140\n",
       "25  2018-03-20  0.8120\n",
       "26  2018-03-19  0.8132\n",
       "27  2018-03-18  0.8130\n",
       "28  2018-03-17  0.8130\n",
       "29  2018-03-16  0.8110\n",
       "30  2018-03-15  0.8087\n",
       "31  2018-03-14  0.8079\n",
       "32  2018-03-13  0.8107\n",
       "33  2018-03-12  0.8120\n",
       "34  2018-03-11  0.8123\n",
       "35  2018-03-10  0.8123\n",
       "36  2018-03-09  0.8129\n",
       "37  2018-03-08  0.8074\n",
       "38  2018-03-07  0.8039\n",
       "39  2018-03-06  0.8097\n",
       "40  2018-03-05  0.8121\n",
       "41  2018-03-04  0.8117\n",
       "42  2018-03-03  0.8117\n",
       "43  2018-03-02  0.8135\n",
       "44  2018-03-01  0.8200"
      ]
     },
     "execution_count": 132,
     "metadata": {},
     "output_type": "execute_result"
    }
   ],
   "source": [
    "#March 2018\n",
    "df_0318 = dfEUR.sort_index()\n",
    "df_0318 = dfEUR.reset_index()\n",
    "df_0318[df_0318['Date'].between('2018-03-01', '2018-03-31')]"
   ]
  },
  {
   "cell_type": "code",
   "execution_count": 165,
   "metadata": {},
   "outputs": [
    {
     "name": "stdout",
     "output_type": "stream",
     "text": [
      "EUR    0.870037\n",
      "dtype: float64\n"
     ]
    }
   ],
   "source": [
    "avgmarch=df_0318.mean()\n",
    "print(avgmarch)"
   ]
  },
  {
   "cell_type": "code",
   "execution_count": 166,
   "metadata": {},
   "outputs": [
    {
     "data": {
      "text/html": [
       "<div>\n",
       "<style scoped>\n",
       "    .dataframe tbody tr th:only-of-type {\n",
       "        vertical-align: middle;\n",
       "    }\n",
       "\n",
       "    .dataframe tbody tr th {\n",
       "        vertical-align: top;\n",
       "    }\n",
       "\n",
       "    .dataframe thead th {\n",
       "        text-align: right;\n",
       "    }\n",
       "</style>\n",
       "<table border=\"1\" class=\"dataframe\">\n",
       "  <thead>\n",
       "    <tr style=\"text-align: right;\">\n",
       "      <th></th>\n",
       "      <th>Date</th>\n",
       "      <th>EUR</th>\n",
       "    </tr>\n",
       "  </thead>\n",
       "  <tbody>\n",
       "    <tr>\n",
       "      <th>57</th>\n",
       "      <td>2018-02-15</td>\n",
       "      <td>0.801</td>\n",
       "    </tr>\n",
       "  </tbody>\n",
       "</table>\n",
       "</div>"
      ],
      "text/plain": [
       "          Date    EUR\n",
       "57  2018-02-15  0.801"
      ]
     },
     "execution_count": 166,
     "metadata": {},
     "output_type": "execute_result"
    }
   ],
   "source": [
    "#150218\n",
    "df_0218 = dfEUR.sort_index()\n",
    "df_0218 = dfEUR.reset_index()\n",
    "df_0218[df_0218['Date'].between('2018-02-15', '2018-02-15')]"
   ]
  },
  {
   "cell_type": "markdown",
   "metadata": {},
   "source": [
    "7. Que dia de la semana tiene una media mayor? Y una mediana mayor? Pinta en un grafico de barras la media(Groupby) de cada dia de la semana"
   ]
  },
  {
   "cell_type": "code",
   "execution_count": 167,
   "metadata": {},
   "outputs": [
    {
     "name": "stdout",
     "output_type": "stream",
     "text": [
      "Date\n",
      "2016-12-20    0.9615\n",
      "2017-01-10    0.9474\n",
      "2017-01-11    0.9471\n",
      "2017-01-12    0.9384\n",
      "2017-01-13    0.9402\n",
      "               ...  \n",
      "2018-04-10    0.8114\n",
      "2018-04-11    0.8076\n",
      "2018-04-12    0.8100\n",
      "2018-04-13    0.8104\n",
      "2018-04-14    0.8106\n",
      "Name: EUR, Length: 338, dtype: float64\n"
     ]
    }
   ],
   "source": [
    "df_preciomedio = dfEUR.groupby('Date')['EUR'].mean()\n",
    "\n",
    "print(df_preciomedio)"
   ]
  },
  {
   "cell_type": "code",
   "execution_count": 147,
   "metadata": {},
   "outputs": [
    {
     "data": {
      "text/plain": [
       "0.9615"
      ]
     },
     "execution_count": 147,
     "metadata": {},
     "output_type": "execute_result"
    }
   ],
   "source": [
    "df_preciomedio.max()"
   ]
  },
  {
   "cell_type": "code",
   "execution_count": 170,
   "metadata": {},
   "outputs": [
    {
     "name": "stdout",
     "output_type": "stream",
     "text": [
      "Date\n",
      "2016-12-20    0.9615\n",
      "2017-01-10    0.9474\n",
      "2017-01-11    0.9471\n",
      "2017-01-12    0.9384\n",
      "2017-01-13    0.9402\n",
      "               ...  \n",
      "2018-04-10    0.8114\n",
      "2018-04-11    0.8076\n",
      "2018-04-12    0.8100\n",
      "2018-04-13    0.8104\n",
      "2018-04-14    0.8106\n",
      "Name: EUR, Length: 338, dtype: float64\n"
     ]
    }
   ],
   "source": [
    "df_preciomedian = dfEUR.groupby('Date')['EUR'].median()\n",
    "print(df_preciomedian)"
   ]
  },
  {
   "cell_type": "markdown",
   "metadata": {},
   "source": [
    "8. Crea las siguientes columnas nuevas para el dataframe\n",
    "+ Año\n",
    "+ Mes\n",
    "+ Dia del mes\n",
    "+ Dia del año\n",
    "+ Semana del año\n"
   ]
  },
  {
   "cell_type": "code",
   "execution_count": null,
   "metadata": {},
   "outputs": [
    {
     "name": "stderr",
     "output_type": "stream",
     "text": [
      "<ipython-input-190-2ad40b6d9458>:7: FutureWarning: weekofyear and week have been deprecated, please use DatetimeIndex.isocalendar().week instead, which returns a Series.  To exactly reproduce the behavior of week and weekofyear and return an Index, you may call pd.Int64Index(idx.isocalendar().week)\n",
      "  linkcsv['week']= pd.DatetimeIndex(linkcsv['Date']).week\n"
     ]
    }
   ],
   "source": [
    "from calendar import monthrange\n",
    "from calendar import day_name\n",
    "\n",
    "linkcsv['Year'] = pd.DatetimeIndex(linkcsv['Date']).year\n",
    "linkcsv['month'] = pd.DatetimeIndex(linkcsv['Date']).month\n",
    "linkcsv['day'] = pd.DatetimeIndex(linkcsv['Date']).day\n",
    "linkcsv['week']= pd.DatetimeIndex(linkcsv['Date']).week\n"
   ]
  },
  {
   "cell_type": "code",
   "execution_count": null,
   "metadata": {},
   "outputs": [
    {
     "data": {
      "text/html": [
       "<div>\n",
       "<style scoped>\n",
       "    .dataframe tbody tr th:only-of-type {\n",
       "        vertical-align: middle;\n",
       "    }\n",
       "\n",
       "    .dataframe tbody tr th {\n",
       "        vertical-align: top;\n",
       "    }\n",
       "\n",
       "    .dataframe thead th {\n",
       "        text-align: right;\n",
       "    }\n",
       "</style>\n",
       "<table border=\"1\" class=\"dataframe\">\n",
       "  <thead>\n",
       "    <tr style=\"text-align: right;\">\n",
       "      <th></th>\n",
       "      <th>0</th>\n",
       "      <th>1</th>\n",
       "      <th>2</th>\n",
       "      <th>3</th>\n",
       "      <th>4</th>\n",
       "    </tr>\n",
       "  </thead>\n",
       "  <tbody>\n",
       "    <tr>\n",
       "      <th>Date</th>\n",
       "      <td>2018-04-14 00:00:00</td>\n",
       "      <td>2018-04-13 00:00:00</td>\n",
       "      <td>2018-04-12 00:00:00</td>\n",
       "      <td>2018-04-11 00:00:00</td>\n",
       "      <td>2018-04-10 00:00:00</td>\n",
       "    </tr>\n",
       "    <tr>\n",
       "      <th>LAK</th>\n",
       "      <td>8276.0</td>\n",
       "      <td>8276.0</td>\n",
       "      <td>8276.0</td>\n",
       "      <td>8279.0</td>\n",
       "      <td>8279.0</td>\n",
       "    </tr>\n",
       "    <tr>\n",
       "      <th>AOA</th>\n",
       "      <td>217.610992</td>\n",
       "      <td>217.610992</td>\n",
       "      <td>216.432999</td>\n",
       "      <td>216.608002</td>\n",
       "      <td>216.436996</td>\n",
       "    </tr>\n",
       "    <tr>\n",
       "      <th>ANG</th>\n",
       "      <td>1.78</td>\n",
       "      <td>1.78</td>\n",
       "      <td>1.78</td>\n",
       "      <td>1.78</td>\n",
       "      <td>1.78</td>\n",
       "    </tr>\n",
       "    <tr>\n",
       "      <th>NOK</th>\n",
       "      <td>7.7749</td>\n",
       "      <td>7.75401</td>\n",
       "      <td>7.7833</td>\n",
       "      <td>7.77334</td>\n",
       "      <td>7.82025</td>\n",
       "    </tr>\n",
       "    <tr>\n",
       "      <th>...</th>\n",
       "      <td>...</td>\n",
       "      <td>...</td>\n",
       "      <td>...</td>\n",
       "      <td>...</td>\n",
       "      <td>...</td>\n",
       "    </tr>\n",
       "    <tr>\n",
       "      <th>day</th>\n",
       "      <td>14</td>\n",
       "      <td>13</td>\n",
       "      <td>12</td>\n",
       "      <td>11</td>\n",
       "      <td>10</td>\n",
       "    </tr>\n",
       "    <tr>\n",
       "      <th>week</th>\n",
       "      <td>15</td>\n",
       "      <td>15</td>\n",
       "      <td>15</td>\n",
       "      <td>15</td>\n",
       "      <td>15</td>\n",
       "    </tr>\n",
       "    <tr>\n",
       "      <th>day_name</th>\n",
       "      <td>Saturday</td>\n",
       "      <td>Friday</td>\n",
       "      <td>Thursday</td>\n",
       "      <td>Wednesday</td>\n",
       "      <td>Tuesday</td>\n",
       "    </tr>\n",
       "    <tr>\n",
       "      <th>month</th>\n",
       "      <td>4</td>\n",
       "      <td>4</td>\n",
       "      <td>4</td>\n",
       "      <td>4</td>\n",
       "      <td>4</td>\n",
       "    </tr>\n",
       "    <tr>\n",
       "      <th>Year</th>\n",
       "      <td>2018</td>\n",
       "      <td>2018</td>\n",
       "      <td>2018</td>\n",
       "      <td>2018</td>\n",
       "      <td>2018</td>\n",
       "    </tr>\n",
       "  </tbody>\n",
       "</table>\n",
       "<p>183 rows × 5 columns</p>\n",
       "</div>"
      ],
      "text/plain": [
       "                            0                    1                    2  \\\n",
       "Date      2018-04-14 00:00:00  2018-04-13 00:00:00  2018-04-12 00:00:00   \n",
       "LAK                    8276.0               8276.0               8276.0   \n",
       "AOA                217.610992           217.610992           216.432999   \n",
       "ANG                      1.78                 1.78                 1.78   \n",
       "NOK                    7.7749              7.75401               7.7833   \n",
       "...                       ...                  ...                  ...   \n",
       "day                        14                   13                   12   \n",
       "week                       15                   15                   15   \n",
       "day_name             Saturday               Friday             Thursday   \n",
       "month                       4                    4                    4   \n",
       "Year                     2018                 2018                 2018   \n",
       "\n",
       "                            3                    4  \n",
       "Date      2018-04-11 00:00:00  2018-04-10 00:00:00  \n",
       "LAK                    8279.0               8279.0  \n",
       "AOA                216.608002           216.436996  \n",
       "ANG                      1.78                 1.78  \n",
       "NOK                   7.77334              7.82025  \n",
       "...                       ...                  ...  \n",
       "day                        11                   10  \n",
       "week                       15                   15  \n",
       "day_name            Wednesday              Tuesday  \n",
       "month                       4                    4  \n",
       "Year                     2018                 2018  \n",
       "\n",
       "[183 rows x 5 columns]"
      ]
     },
     "execution_count": 187,
     "metadata": {},
     "output_type": "execute_result"
    }
   ],
   "source": [
    "linkcsv.head().T"
   ]
  },
  {
   "cell_type": "markdown",
   "metadata": {},
   "source": [
    "9. Crea dos nuevas variables en el dataframe\n",
    "+ Valor de la variable del día aterior \" EUR_prev_1'\n",
    "+ Valor de dentro de una semana \"EUR_next_7'"
   ]
  },
  {
   "cell_type": "markdown",
   "metadata": {},
   "source": [
    "10. Calcula la variable diferencia entre el valor de ayer y hoy, utilizando 'EUR_prev_1'"
   ]
  },
  {
   "cell_type": "markdown",
   "metadata": {},
   "source": [
    "11. Calcula la el ratio de crecimiento entre ayer y hoy entre ambas, dividiendo entre el valor del dia anterior"
   ]
  },
  {
   "cell_type": "markdown",
   "metadata": {},
   "source": [
    "12. Obten la columna 'Eur_prev_1_diff', con la funcion diff, y la variable pct_change 'Eur_prev_1_pct'. Comprueba que son iguales con lo calculado anteriormente"
   ]
  },
  {
   "cell_type": "markdown",
   "metadata": {},
   "source": [
    "13. Crea una nueva variable la media movil CENTRADA de una semana. Haz un grafico(lineplot) para mostrarla , y comparala con la del ejercicio 5. Alguna conclusion>"
   ]
  },
  {
   "cell_type": "markdown",
   "metadata": {},
   "source": [
    "14. Crea 3 dataframes distintos a una granularidad diaria (Recuerda que no hay fines de semanas, y tenemos que completar el valor)\n",
    "+ El primero, utilizando el valor del primer día\n",
    "+ El segundo, Uutilizando el valor del día siguiente\n",
    "+ El tercero, Utilizando una interpolación entre ambos días\n",
    "\n"
   ]
  },
  {
   "cell_type": "markdown",
   "metadata": {},
   "source": []
  }
 ],
 "metadata": {
  "interpreter": {
   "hash": "67d2c2385936eccdc9818a735f1f540822cd4c593b2f24a825eaea16be86a072"
  },
  "kernelspec": {
   "display_name": "Python_3.7",
   "language": "python",
   "name": "python3"
  },
  "language_info": {
   "codemirror_mode": {
    "name": "ipython",
    "version": 3
   },
   "file_extension": ".py",
   "mimetype": "text/x-python",
   "name": "python",
   "nbconvert_exporter": "python",
   "pygments_lexer": "ipython3",
   "version": "3.8.8"
  }
 },
 "nbformat": 4,
 "nbformat_minor": 4
}
